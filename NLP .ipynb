{
 "cells": [
  {
   "cell_type": "code",
   "execution_count": 55,
   "metadata": {},
   "outputs": [],
   "source": [
    "import nltk"
   ]
  },
  {
   "cell_type": "code",
   "execution_count": null,
   "metadata": {},
   "outputs": [],
   "source": [
    "nltk.download()"
   ]
  },
  {
   "cell_type": "markdown",
   "metadata": {},
   "source": [
    "Quit India Speech by Mahatma Gandhi: Extracted from wikipedia\n",
    "\n",
    "This is the speech by the Mahatma Gandhi during Quit India movement against the Britishers(English men).Gandhi is a well known freedom fighter of the India and names as 'Father of Nation'\n",
    "\n",
    "Source Link : https://en.wikipedia.org/wiki/Quit_India_speech"
   ]
  },
  {
   "cell_type": "code",
   "execution_count": 56,
   "metadata": {},
   "outputs": [],
   "source": [
    "paragraph = \"\"\"Before you discuss the resolution, let me place before you one or two things, I want you to understand two things very clearly and to consider them from the same point of view from which I am placing them before you. I ask you to consider it from my point of view, because if you approve of it, you will be enjoined to carry out all I say. It will be a great responsibility. There are people who ask me whether I am the same man that I was in 1920, or whether there has been any change in me or you. You are right in asking that question.\n",
    "\n",
    "Let me, however, hasten to assure that I am the same Gandhi as I was in 1920. I have not changed in any fundamental respect. I attach the same importance to non-violence that I did then. If at all, my emphasis on it has grown stronger. There is no real contradiction between the present resolution and my previous writings and utterances.\n",
    "\n",
    "Occasions like the present do not occur in everybody’s and but rarely in anybody’s life. I want you to know and feel that there is nothing but purest Ahimsa in all that I am saying and doing today. The draft resolution of the Working Committee is based on Ahimsa, the contemplated struggle similarly has its roots in Ahimsa. If, therefore, there is any among you who has lost faith in Ahimsa or is wearied of it, let him not vote for this resolution. Let me explain my position clearly. God has vouchsafed to me a priceless gift in the weapon of Ahimsa. I and my Ahimsa are on our trail today. If in the present crisis, when the earth is being scorched by the flames of Himsa and crying for deliverance, I failed to make use of the God given talent, God will not forgive me and I shall be judged unworthy of the great gift. I must act now. I may not hesitate and merely look on, when Russia and China are threatened.\"\"\"\n"
   ]
  },
  {
   "cell_type": "markdown",
   "metadata": {},
   "source": [
    "Tokenization : saperating the paragraphs into list of sentences/words"
   ]
  },
  {
   "cell_type": "code",
   "execution_count": 57,
   "metadata": {},
   "outputs": [],
   "source": [
    "sentences = nltk.sent_tokenize(paragraph)"
   ]
  },
  {
   "cell_type": "code",
   "execution_count": 58,
   "metadata": {},
   "outputs": [
    {
     "name": "stdout",
     "output_type": "stream",
     "text": [
      "['Before you discuss the resolution, let me place before you one or two things, I want you to understand two things very clearly and to consider them from the same point of view from which I am placing them before you.', 'I ask you to consider it from my point of view, because if you approve of it, you will be enjoined to carry out all I say.', 'It will be a great responsibility.', 'There are people who ask me whether I am the same man that I was in 1920, or whether there has been any change in me or you.', 'You are right in asking that question.', 'Let me, however, hasten to assure that I am the same Gandhi as I was in 1920.', 'I have not changed in any fundamental respect.', 'I attach the same importance to non-violence that I did then.', 'If at all, my emphasis on it has grown stronger.', 'There is no real contradiction between the present resolution and my previous writings and utterances.', 'Occasions like the present do not occur in everybody’s and but rarely in anybody’s life.', 'I want you to know and feel that there is nothing but purest Ahimsa in all that I am saying and doing today.', 'The draft resolution of the Working Committee is based on Ahimsa, the contemplated struggle similarly has its roots in Ahimsa.', 'If, therefore, there is any among you who has lost faith in Ahimsa or is wearied of it, let him not vote for this resolution.', 'Let me explain my position clearly.', 'God has vouchsafed to me a priceless gift in the weapon of Ahimsa.', 'I and my Ahimsa are on our trail today.', 'If in the present crisis, when the earth is being scorched by the flames of Himsa and crying for deliverance, I failed to make use of the God given talent, God will not forgive me and I shall be judged unworthy of the great gift.', 'I must act now.', 'I may not hesitate and merely look on, when Russia and China are threatened.']\n"
     ]
    },
    {
     "data": {
      "text/plain": [
       "20"
      ]
     },
     "execution_count": 58,
     "metadata": {},
     "output_type": "execute_result"
    }
   ],
   "source": [
    "print(sentences)\n",
    "len(sentences)"
   ]
  },
  {
   "cell_type": "code",
   "execution_count": 59,
   "metadata": {},
   "outputs": [
    {
     "data": {
      "text/plain": [
       "384"
      ]
     },
     "execution_count": 59,
     "metadata": {},
     "output_type": "execute_result"
    }
   ],
   "source": [
    "words = nltk.word_tokenize(paragraph)\n",
    "len(words)"
   ]
  },
  {
   "cell_type": "code",
   "execution_count": 60,
   "metadata": {},
   "outputs": [],
   "source": [
    "from nltk.stem import PorterStemmer\n",
    "from nltk.stem import WordNetLemmatizer\n",
    "from nltk.corpus import stopwords\n",
    "stemmer = PorterStemmer()\n",
    "wordnet = WordNetLemmatizer()"
   ]
  },
  {
   "cell_type": "markdown",
   "metadata": {},
   "source": [
    "Stemming: Converting the words which are not meaningful words \n",
    "Example (Intelligent, Intelligence, Intellegently) ---> (Intelligen)"
   ]
  },
  {
   "cell_type": "markdown",
   "metadata": {},
   "source": [
    "Lemmatization: Converting the words which are meaningful words \n",
    "Example (Intelligent, Intelligence, Intellegently) ---> (Intelligent)"
   ]
  },
  {
   "cell_type": "code",
   "execution_count": 63,
   "metadata": {},
   "outputs": [],
   "source": [
    "for i in range(len(sentences)):\n",
    "    words = nltk.word_tokenize(sentences[i])\n",
    "#   words = [stemmer.stem(word) for word in words if word not in set(stopwords.words('english'))]\n",
    "    words = [wordnet.lemmatize(word) for word in words if word not in set(stopwords.words('english'))]\n",
    "    sentences[i] = ' '.join(words)"
   ]
  },
  {
   "cell_type": "code",
   "execution_count": 64,
   "metadata": {},
   "outputs": [
    {
     "name": "stdout",
     "output_type": "stream",
     "text": [
      "['Before discus resolution , let place one two thing , I want understand two thing clearly consider point view I placing .', 'I ask consider point view , approve , enjoined carry I say .', 'It great responsibility .', 'There people ask whether I man I 1920 , whether change .', 'You right asking question .', 'Let , however , hasten assure I Gandhi I 1920 .', 'I changed fundamental respect .', 'I attach importance non-violence I .', 'If , emphasis grown stronger .', 'There real contradiction present resolution previous writing utterance .', 'Occasions like present occur everybody ’ rarely anybody ’ life .', 'I want know feel nothing purest Ahimsa I saying today .', 'The draft resolution Working Committee based Ahimsa , contemplated struggle similarly root Ahimsa .', 'If , therefore , among lost faith Ahimsa wearied , let vote resolution .', 'Let explain position clearly .', 'God vouchsafed priceless gift weapon Ahimsa .', 'I Ahimsa trail today .', 'If present crisis , earth scorched flame Himsa cry deliverance , I failed make use God given talent , God forgive I shall judged unworthy great gift .', 'I must act .', 'I may hesitate merely look , Russia China threatened .']\n"
     ]
    }
   ],
   "source": [
    "print(sentences)"
   ]
  },
  {
   "cell_type": "code",
   "execution_count": null,
   "metadata": {},
   "outputs": [],
   "source": []
  }
 ],
 "metadata": {
  "kernelspec": {
   "display_name": "Python 3",
   "language": "python",
   "name": "python3"
  },
  "language_info": {
   "codemirror_mode": {
    "name": "ipython",
    "version": 3
   },
   "file_extension": ".py",
   "mimetype": "text/x-python",
   "name": "python",
   "nbconvert_exporter": "python",
   "pygments_lexer": "ipython3",
   "version": "3.7.4"
  }
 },
 "nbformat": 4,
 "nbformat_minor": 2
}
