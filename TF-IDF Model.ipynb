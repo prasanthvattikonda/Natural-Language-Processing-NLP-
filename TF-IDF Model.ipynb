{
 "cells": [
  {
   "cell_type": "code",
   "execution_count": 2,
   "metadata": {},
   "outputs": [],
   "source": [
    "import nltk"
   ]
  },
  {
   "cell_type": "markdown",
   "metadata": {},
   "source": [
    "Quit India Speech by Mahatma Gandhi: Extracted from wikipedia\n",
    "\n",
    "This is the speech by the Mahatma Gandhi during Quit India movement against the Britishers(English men).\n",
    "Gandhi is a well known freedom fighter of the India and names as 'Father of Nation'\n",
    "\n",
    "Source Link : https://en.wikipedia.org/wiki/Quit_India_speech"
   ]
  },
  {
   "cell_type": "code",
   "execution_count": 3,
   "metadata": {},
   "outputs": [],
   "source": [
    "paragraph = \"\"\"Before you discuss the resolution, let me place before you one or two things, I want you to understand two things very clearly and to consider them from the same point of view from which I am placing them before you. I ask you to consider it from my point of view, because if you approve of it, you will be enjoined to carry out all I say. It will be a great responsibility. There are people who ask me whether I am the same man that I was in 1920, or whether there has been any change in me or you. You are right in asking that question.\n",
    "\n",
    "Let me, however, hasten to assure that I am the same Gandhi as I was in 1920. I have not changed in any fundamental respect. I attach the same importance to non-violence that I did then. If at all, my emphasis on it has grown stronger. There is no real contradiction between the present resolution and my previous writings and utterances.\n",
    "\n",
    "Occasions like the present do not occur in everybody’s and but rarely in anybody’s life. I want you to know and feel that there is nothing but purest Ahimsa in all that I am saying and doing today. The draft resolution of the Working Committee is based on Ahimsa, the contemplated struggle similarly has its roots in Ahimsa. If, therefore, there is any among you who has lost faith in Ahimsa or is wearied of it, let him not vote for this resolution. Let me explain my position clearly. God has vouchsafed to me a priceless gift in the weapon of Ahimsa. I and my Ahimsa are on our trail today. If in the present crisis, when the earth is being scorched by the flames of Himsa and crying for deliverance, I failed to make use of the God given talent, God will not forgive me and I shall be judged unworthy of the great gift. I must act now. I may not hesitate and merely look on, when Russia and China are threatened.\"\"\"\n"
   ]
  },
  {
   "cell_type": "code",
   "execution_count": 4,
   "metadata": {},
   "outputs": [],
   "source": [
    "#Cleaning the text\n",
    "import re                       #regular expression\n",
    "from nltk.corpus import stopwords\n",
    "from nltk.stem.porter import PorterStemmer\n",
    "from nltk.stem import WordNetLemmatizer"
   ]
  },
  {
   "cell_type": "code",
   "execution_count": 5,
   "metadata": {},
   "outputs": [
    {
     "name": "stdout",
     "output_type": "stream",
     "text": [
      "['Before you discuss the resolution, let me place before you one or two things, I want you to understand two things very clearly and to consider them from the same point of view from which I am placing them before you.', 'I ask you to consider it from my point of view, because if you approve of it, you will be enjoined to carry out all I say.', 'It will be a great responsibility.', 'There are people who ask me whether I am the same man that I was in 1920, or whether there has been any change in me or you.', 'You are right in asking that question.', 'Let me, however, hasten to assure that I am the same Gandhi as I was in 1920.', 'I have not changed in any fundamental respect.', 'I attach the same importance to non-violence that I did then.', 'If at all, my emphasis on it has grown stronger.', 'There is no real contradiction between the present resolution and my previous writings and utterances.', 'Occasions like the present do not occur in everybody’s and but rarely in anybody’s life.', 'I want you to know and feel that there is nothing but purest Ahimsa in all that I am saying and doing today.', 'The draft resolution of the Working Committee is based on Ahimsa, the contemplated struggle similarly has its roots in Ahimsa.', 'If, therefore, there is any among you who has lost faith in Ahimsa or is wearied of it, let him not vote for this resolution.', 'Let me explain my position clearly.', 'God has vouchsafed to me a priceless gift in the weapon of Ahimsa.', 'I and my Ahimsa are on our trail today.', 'If in the present crisis, when the earth is being scorched by the flames of Himsa and crying for deliverance, I failed to make use of the God given talent, God will not forgive me and I shall be judged unworthy of the great gift.', 'I must act now.', 'I may not hesitate and merely look on, when Russia and China are threatened.']\n"
     ]
    }
   ],
   "source": [
    "sentences = nltk.sent_tokenize(paragraph)\n",
    "port = PorterStemmer()\n",
    "wordnet = WordNetLemmatizer()\n",
    "print(sentences)"
   ]
  },
  {
   "cell_type": "code",
   "execution_count": 7,
   "metadata": {},
   "outputs": [
    {
     "name": "stdout",
     "output_type": "stream",
     "text": [
      "['discus resolution let place one two thing want understand two thing clearly consider point view placing', 'ask consider point view approve enjoined carry say', 'great responsibility', 'people ask whether man whether change', 'right asking question', 'let however hasten assure gandhi', 'changed fundamental respect', 'attach importance non violence', 'emphasis grown stronger', 'real contradiction present resolution previous writing utterance', 'occasion like present occur everybody rarely anybody life', 'want know feel nothing purest ahimsa saying today', 'draft resolution working committee based ahimsa contemplated struggle similarly root ahimsa', 'therefore among lost faith ahimsa wearied let vote resolution', 'let explain position clearly', 'god vouchsafed priceless gift weapon ahimsa', 'ahimsa trail today', 'present crisis earth scorched flame himsa cry deliverance failed make use god given talent god forgive shall judged unworthy great gift', 'must act', 'may hesitate merely look russia china threatened']\n"
     ]
    }
   ],
   "source": [
    "cleantext = []\n",
    "for i in range(len(sentences)):\n",
    "    clean = re.sub('[^a-zA-Z]', ' ',sentences[i])\n",
    "    clean = clean.lower()\n",
    "    clean = clean.split()      #splitting into list of words\n",
    "    clean = [wordnet.lemmatize(word) for word in clean if not word in set(stopwords.words('english'))]\n",
    "    clean = ' '.join(clean)\n",
    "    cleantext.append(clean)\n",
    "    \n",
    "print(cleantext)"
   ]
  },
  {
   "cell_type": "code",
   "execution_count": null,
   "metadata": {},
   "outputs": [],
   "source": [
    "TF-IDF (TERM FREQUENCY - INVERSE DOCUMENTATION FREQUENCY) MODEL"
   ]
  },
  {
   "cell_type": "code",
   "execution_count": 10,
   "metadata": {},
   "outputs": [
    {
     "name": "stdout",
     "output_type": "stream",
     "text": [
      "[[0.         0.         0.         ... 0.         0.         0.        ]\n",
      " [0.         0.         0.         ... 0.         0.         0.        ]\n",
      " [0.         0.         0.         ... 0.         0.         0.        ]\n",
      " ...\n",
      " [0.         0.         0.         ... 0.         0.         0.        ]\n",
      " [0.70710678 0.         0.         ... 0.         0.         0.        ]\n",
      " [0.         0.         0.         ... 0.         0.         0.        ]]\n"
     ]
    }
   ],
   "source": [
    "from sklearn.feature_extraction.text import TfidfVectorizer\n",
    "tfidf = TfidfVectorizer()\n",
    "X = tfidf.fit_transform(cleantext).toarray()\n",
    "print(X)"
   ]
  },
  {
   "cell_type": "code",
   "execution_count": null,
   "metadata": {},
   "outputs": [],
   "source": []
  }
 ],
 "metadata": {
  "kernelspec": {
   "display_name": "Python 3",
   "language": "python",
   "name": "python3"
  },
  "language_info": {
   "codemirror_mode": {
    "name": "ipython",
    "version": 3
   },
   "file_extension": ".py",
   "mimetype": "text/x-python",
   "name": "python",
   "nbconvert_exporter": "python",
   "pygments_lexer": "ipython3",
   "version": "3.7.4"
  }
 },
 "nbformat": 4,
 "nbformat_minor": 2
}
