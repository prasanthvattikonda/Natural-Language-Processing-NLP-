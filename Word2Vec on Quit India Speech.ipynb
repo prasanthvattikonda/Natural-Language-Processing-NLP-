{
 "cells": [
  {
   "cell_type": "code",
   "execution_count": 2,
   "metadata": {},
   "outputs": [],
   "source": [
    "import nltk\n",
    "from gensim.models import Word2Vec\n",
    "from nltk.corpus import stopwords\n",
    "import re"
   ]
  },
  {
   "cell_type": "markdown",
   "metadata": {},
   "source": [
    "Quit India Speech by Mahatma Gandhi: Extracted from wikipedia\n",
    "\n",
    "This is the speech by the Mahatma Gandhi during Quit India movement against the Britishers(English men).Gandhi is a well known freedom fighter of the India and names as 'Father of Nation'\n",
    "\n",
    "Source Link : https://en.wikipedia.org/wiki/Quit_India_speech"
   ]
  },
  {
   "cell_type": "code",
   "execution_count": 3,
   "metadata": {},
   "outputs": [],
   "source": [
    "paragraph = \"\"\"Before you discuss the resolution, let me place before you one or two things, I want you to understand two things very clearly and to consider them from the same point of view from which I am placing them before you. I ask you to consider it from my point of view, because if you approve of it, you will be enjoined to carry out all I say. It will be a great responsibility. There are people who ask me whether I am the same man that I was in 1920, or whether there has been any change in me or you. You are right in asking that question.\n",
    "\n",
    "Let me, however, hasten to assure that I am the same Gandhi as I was in 1920. I have not changed in any fundamental respect. I attach the same importance to non-violence that I did then. If at all, my emphasis on it has grown stronger. There is no real contradiction between the present resolution and my previous writings and utterances.\n",
    "\n",
    "Occasions like the present do not occur in everybody’s and but rarely in anybody’s life. I want you to know and feel that there is nothing but purest Ahimsa in all that I am saying and doing today. The draft resolution of the Working Committee is based on Ahimsa, the contemplated struggle similarly has its roots in Ahimsa. If, therefore, there is any among you who has lost faith in Ahimsa or is wearied of it, let him not vote for this resolution. Let me explain my position clearly. God has vouchsafed to me a priceless gift in the weapon of Ahimsa. I and my Ahimsa are on our trail today. If in the present crisis, when the earth is being scorched by the flames of Himsa and crying for deliverance, I failed to make use of the God given talent, God will not forgive me and I shall be judged unworthy of the great gift. I must act now. I may not hesitate and merely look on, when Russia and China are threatened.\"\"\"\n"
   ]
  },
  {
   "cell_type": "code",
   "execution_count": null,
   "metadata": {},
   "outputs": [],
   "source": [
    "Preprocessing the data"
   ]
  },
  {
   "cell_type": "code",
   "execution_count": 5,
   "metadata": {},
   "outputs": [
    {
     "name": "stdout",
     "output_type": "stream",
     "text": [
      "before you discuss the resolution, let me place before you one or two things, i want you to understand two things very clearly and to consider them from the same point of view from which i am placing them before you. i ask you to consider it from my point of view, because if you approve of it, you will be enjoined to carry out all i say. it will be a great responsibility. there are people who ask me whether i am the same man that i was in 1920, or whether there has been any change in me or you. you are right in asking that question.\n",
      "\n",
      "let me, however, hasten to assure that i am the same gandhi as i was in 1920. i have not changed in any fundamental respect. i attach the same importance to non-violence that i did then. if at all, my emphasis on it has grown stronger. there is no real contradiction between the present resolution and my previous writings and utterances.\n",
      "\n",
      "occasions like the present do not occur in everybody’s and but rarely in anybody’s life. i want you to know and feel that there is nothing but purest ahimsa in all that i am saying and doing today. the draft resolution of the working committee is based on ahimsa, the contemplated struggle similarly has its roots in ahimsa. if, therefore, there is any among you who has lost faith in ahimsa or is wearied of it, let him not vote for this resolution. let me explain my position clearly. god has vouchsafed to me a priceless gift in the weapon of ahimsa. i and my ahimsa are on our trail today. if in the present crisis, when the earth is being scorched by the flames of himsa and crying for deliverance, i failed to make use of the god given talent, god will not forgive me and i shall be judged unworthy of the great gift. i must act now. i may not hesitate and merely look on, when russia and china are threatened.\n"
     ]
    }
   ],
   "source": [
    "txt = re.sub(r'\\[[0-9]*\\]',' ',paragraph)\n",
    "txt = txt.lower()\n",
    "print(txt)"
   ]
  },
  {
   "cell_type": "code",
   "execution_count": 6,
   "metadata": {},
   "outputs": [
    {
     "name": "stdout",
     "output_type": "stream",
     "text": [
      "[['before', 'you', 'discuss', 'the', 'resolution', ',', 'let', 'me', 'place', 'before', 'you', 'one', 'or', 'two', 'things', ',', 'i', 'want', 'you', 'to', 'understand', 'two', 'things', 'very', 'clearly', 'and', 'to', 'consider', 'them', 'from', 'the', 'same', 'point', 'of', 'view', 'from', 'which', 'i', 'am', 'placing', 'them', 'before', 'you', '.'], ['i', 'ask', 'you', 'to', 'consider', 'it', 'from', 'my', 'point', 'of', 'view', ',', 'because', 'if', 'you', 'approve', 'of', 'it', ',', 'you', 'will', 'be', 'enjoined', 'to', 'carry', 'out', 'all', 'i', 'say', '.'], ['it', 'will', 'be', 'a', 'great', 'responsibility', '.'], ['there', 'are', 'people', 'who', 'ask', 'me', 'whether', 'i', 'am', 'the', 'same', 'man', 'that', 'i', 'was', 'in', '1920', ',', 'or', 'whether', 'there', 'has', 'been', 'any', 'change', 'in', 'me', 'or', 'you', '.'], ['you', 'are', 'right', 'in', 'asking', 'that', 'question', '.'], ['let', 'me', ',', 'however', ',', 'hasten', 'to', 'assure', 'that', 'i', 'am', 'the', 'same', 'gandhi', 'as', 'i', 'was', 'in', '1920.', 'i', 'have', 'not', 'changed', 'in', 'any', 'fundamental', 'respect', '.'], ['i', 'attach', 'the', 'same', 'importance', 'to', 'non-violence', 'that', 'i', 'did', 'then', '.'], ['if', 'at', 'all', ',', 'my', 'emphasis', 'on', 'it', 'has', 'grown', 'stronger', '.'], ['there', 'is', 'no', 'real', 'contradiction', 'between', 'the', 'present', 'resolution', 'and', 'my', 'previous', 'writings', 'and', 'utterances', '.'], ['occasions', 'like', 'the', 'present', 'do', 'not', 'occur', 'in', 'everybody', '’', 's', 'and', 'but', 'rarely', 'in', 'anybody', '’', 's', 'life', '.'], ['i', 'want', 'you', 'to', 'know', 'and', 'feel', 'that', 'there', 'is', 'nothing', 'but', 'purest', 'ahimsa', 'in', 'all', 'that', 'i', 'am', 'saying', 'and', 'doing', 'today', '.'], ['the', 'draft', 'resolution', 'of', 'the', 'working', 'committee', 'is', 'based', 'on', 'ahimsa', ',', 'the', 'contemplated', 'struggle', 'similarly', 'has', 'its', 'roots', 'in', 'ahimsa', '.'], ['if', ',', 'therefore', ',', 'there', 'is', 'any', 'among', 'you', 'who', 'has', 'lost', 'faith', 'in', 'ahimsa', 'or', 'is', 'wearied', 'of', 'it', ',', 'let', 'him', 'not', 'vote', 'for', 'this', 'resolution', '.'], ['let', 'me', 'explain', 'my', 'position', 'clearly', '.'], ['god', 'has', 'vouchsafed', 'to', 'me', 'a', 'priceless', 'gift', 'in', 'the', 'weapon', 'of', 'ahimsa', '.'], ['i', 'and', 'my', 'ahimsa', 'are', 'on', 'our', 'trail', 'today', '.'], ['if', 'in', 'the', 'present', 'crisis', ',', 'when', 'the', 'earth', 'is', 'being', 'scorched', 'by', 'the', 'flames', 'of', 'himsa', 'and', 'crying', 'for', 'deliverance', ',', 'i', 'failed', 'to', 'make', 'use', 'of', 'the', 'god', 'given', 'talent', ',', 'god', 'will', 'not', 'forgive', 'me', 'and', 'i', 'shall', 'be', 'judged', 'unworthy', 'of', 'the', 'great', 'gift', '.'], ['i', 'must', 'act', 'now', '.'], ['i', 'may', 'not', 'hesitate', 'and', 'merely', 'look', 'on', ',', 'when', 'russia', 'and', 'china', 'are', 'threatened', '.']]\n"
     ]
    }
   ],
   "source": [
    "sentences = nltk.sent_tokenize(txt)\n",
    "sentences = [nltk.word_tokenize(sentence) for sentence in sentences]\n",
    "print(sentences)"
   ]
  },
  {
   "cell_type": "code",
   "execution_count": 7,
   "metadata": {},
   "outputs": [],
   "source": [
    "for i in range(len(sentences)):\n",
    "    sentences[i] = [word for word in sentences[i] if word not in stopwords.words('english')]"
   ]
  },
  {
   "cell_type": "code",
   "execution_count": 8,
   "metadata": {},
   "outputs": [
    {
     "name": "stdout",
     "output_type": "stream",
     "text": [
      "[['discuss', 'resolution', ',', 'let', 'place', 'one', 'two', 'things', ',', 'want', 'understand', 'two', 'things', 'clearly', 'consider', 'point', 'view', 'placing', '.'], ['ask', 'consider', 'point', 'view', ',', 'approve', ',', 'enjoined', 'carry', 'say', '.'], ['great', 'responsibility', '.'], ['people', 'ask', 'whether', 'man', '1920', ',', 'whether', 'change', '.'], ['right', 'asking', 'question', '.'], ['let', ',', 'however', ',', 'hasten', 'assure', 'gandhi', '1920.', 'changed', 'fundamental', 'respect', '.'], ['attach', 'importance', 'non-violence', '.'], [',', 'emphasis', 'grown', 'stronger', '.'], ['real', 'contradiction', 'present', 'resolution', 'previous', 'writings', 'utterances', '.'], ['occasions', 'like', 'present', 'occur', 'everybody', '’', 'rarely', 'anybody', '’', 'life', '.'], ['want', 'know', 'feel', 'nothing', 'purest', 'ahimsa', 'saying', 'today', '.'], ['draft', 'resolution', 'working', 'committee', 'based', 'ahimsa', ',', 'contemplated', 'struggle', 'similarly', 'roots', 'ahimsa', '.'], [',', 'therefore', ',', 'among', 'lost', 'faith', 'ahimsa', 'wearied', ',', 'let', 'vote', 'resolution', '.'], ['let', 'explain', 'position', 'clearly', '.'], ['god', 'vouchsafed', 'priceless', 'gift', 'weapon', 'ahimsa', '.'], ['ahimsa', 'trail', 'today', '.'], ['present', 'crisis', ',', 'earth', 'scorched', 'flames', 'himsa', 'crying', 'deliverance', ',', 'failed', 'make', 'use', 'god', 'given', 'talent', ',', 'god', 'forgive', 'shall', 'judged', 'unworthy', 'great', 'gift', '.'], ['must', 'act', '.'], ['may', 'hesitate', 'merely', 'look', ',', 'russia', 'china', 'threatened', '.']]\n"
     ]
    }
   ],
   "source": [
    "print(sentences)"
   ]
  },
  {
   "cell_type": "markdown",
   "metadata": {},
   "source": [
    "Word2Vec Model"
   ]
  },
  {
   "cell_type": "code",
   "execution_count": 10,
   "metadata": {},
   "outputs": [],
   "source": [
    "model = Word2Vec(sentences,min_count=1)\n",
    "words = model.wv.vocab"
   ]
  },
  {
   "cell_type": "markdown",
   "metadata": {},
   "source": [
    "Finding vector for particular word"
   ]
  },
  {
   "cell_type": "code",
   "execution_count": 14,
   "metadata": {},
   "outputs": [],
   "source": [
    "vector = model.wv['life']"
   ]
  },
  {
   "cell_type": "markdown",
   "metadata": {},
   "source": [
    "Finding similar word "
   ]
  },
  {
   "cell_type": "code",
   "execution_count": 15,
   "metadata": {},
   "outputs": [],
   "source": [
    "similar = model.wv.most_similar('life')"
   ]
  },
  {
   "cell_type": "code",
   "execution_count": 16,
   "metadata": {},
   "outputs": [
    {
     "name": "stdout",
     "output_type": "stream",
     "text": [
      "[-3.1493907e-03  2.9527387e-04  4.2034802e-03  2.7701186e-03\n",
      " -8.6055166e-04 -4.4385088e-03  4.5493999e-03  2.4657622e-03\n",
      "  8.1657554e-04 -4.3453397e-03 -4.2015398e-03  2.0015389e-03\n",
      "  1.9125678e-03 -2.9947334e-03 -7.0915266e-04  3.1229646e-03\n",
      "  8.6661644e-04 -2.6236204e-03  4.2530256e-03  4.2934646e-03\n",
      " -2.3085864e-03 -1.2241704e-03 -2.5858979e-03  8.4075145e-04\n",
      " -1.0525991e-03  1.9211099e-03 -3.1734915e-03 -4.7113062e-04\n",
      " -1.3074850e-03 -4.6435284e-04  3.2413057e-03  4.8021590e-03\n",
      "  3.0643414e-03  3.1764368e-03 -1.5785842e-03 -4.7695013e-03\n",
      "  2.2018179e-03 -2.8157143e-03 -2.0578848e-03  2.2371300e-03\n",
      " -2.1932297e-03  3.6326167e-03 -4.7640139e-03  4.3459781e-03\n",
      "  1.8839700e-03  3.6712864e-03 -6.0433045e-04 -1.6793062e-03\n",
      "  1.0202286e-03  7.2157016e-04 -2.4801961e-03  3.3975239e-03\n",
      "  1.6050144e-03  2.3831346e-03  3.4496696e-03 -2.0450228e-03\n",
      "  3.2376836e-03 -4.6148454e-03 -4.5660497e-03 -3.8916895e-03\n",
      "  4.0966072e-03  2.1651776e-03  1.3310435e-03 -4.5524831e-03\n",
      "  9.8452430e-05  1.5033800e-03 -5.6947651e-04 -2.6505222e-03\n",
      "  3.9087608e-03  2.3069305e-03  5.1107048e-04  2.2902666e-03\n",
      " -1.7506297e-03 -3.0288938e-03  3.3986585e-03 -1.4829620e-03\n",
      " -3.1698223e-03 -1.3076264e-03  2.0050271e-04  3.0069521e-03\n",
      "  4.2155511e-03  2.0188196e-03  2.9656615e-03  3.4934829e-03\n",
      " -9.8532124e-04 -3.0337758e-03 -3.8276950e-04  1.1678340e-03\n",
      "  1.7259988e-03 -1.6714815e-03 -1.1579636e-03  1.0935239e-03\n",
      "  2.0865321e-03  1.7237380e-03  2.6972673e-04 -3.2141292e-04\n",
      " -6.4949226e-04  3.1641761e-03 -1.6019512e-03 -4.4835908e-03]\n",
      "[('man', 0.24843426048755646), ('roots', 0.2455262988805771), ('’', 0.22462555766105652), ('act', 0.21116672456264496), ('committee', 0.20493441820144653), ('utterances', 0.20070649683475494), ('everybody', 0.19643212854862213), ('may', 0.19080305099487305), ('people', 0.16413551568984985), ('great', 0.1605038046836853)]\n"
     ]
    }
   ],
   "source": [
    "print(vector)\n",
    "print(similar)"
   ]
  },
  {
   "cell_type": "code",
   "execution_count": null,
   "metadata": {},
   "outputs": [],
   "source": []
  }
 ],
 "metadata": {
  "kernelspec": {
   "display_name": "Python 3",
   "language": "python",
   "name": "python3"
  },
  "language_info": {
   "codemirror_mode": {
    "name": "ipython",
    "version": 3
   },
   "file_extension": ".py",
   "mimetype": "text/x-python",
   "name": "python",
   "nbconvert_exporter": "python",
   "pygments_lexer": "ipython3",
   "version": "3.7.4"
  }
 },
 "nbformat": 4,
 "nbformat_minor": 2
}
